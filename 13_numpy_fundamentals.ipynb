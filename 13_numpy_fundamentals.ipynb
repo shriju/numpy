{
  "nbformat": 4,
  "nbformat_minor": 0,
  "metadata": {
    "colab": {
      "provenance": [],
      "authorship_tag": "ABX9TyM2QwMlf451eJenABUkHbRE",
      "include_colab_link": true
    },
    "kernelspec": {
      "name": "python3",
      "display_name": "Python 3"
    },
    "language_info": {
      "name": "python"
    }
  },
  "cells": [
    {
      "cell_type": "markdown",
      "metadata": {
        "id": "view-in-github",
        "colab_type": "text"
      },
      "source": [
        "<a href=\"https://colab.research.google.com/github/shriju/numpy/blob/main/13_numpy_fundamentals.ipynb\" target=\"_parent\"><img src=\"https://colab.research.google.com/assets/colab-badge.svg\" alt=\"Open In Colab\"/></a>"
      ]
    },
    {
      "cell_type": "code",
      "execution_count": 23,
      "metadata": {
        "id": "BTMxUYqJH9l-"
      },
      "outputs": [],
      "source": [
        "# create a null vector of size 10 to but the fifth value is 1.\n",
        "import numpy as np\n",
        "import pandas as pd"
      ]
    },
    {
      "cell_type": "code",
      "source": [
        "x=np.nan*np.empty(10)\n",
        "x[4]=1\n",
        "x"
      ],
      "metadata": {
        "id": "c43fmABYILXx",
        "colab": {
          "base_uri": "https://localhost:8080/"
        },
        "outputId": "dee0358a-74da-4870-a2f1-a258245ee96f"
      },
      "execution_count": 2,
      "outputs": [
        {
          "output_type": "execute_result",
          "data": {
            "text/plain": [
              "array([nan, nan, nan, nan,  1., nan, nan, nan, nan, nan])"
            ]
          },
          "metadata": {},
          "execution_count": 2
        }
      ]
    },
    {
      "cell_type": "code",
      "source": [
        "#Ask user to input two numbers a, b. Write a program to generate a random array of shape (a, b) and print the array and avg of the array.\n",
        "a,b=map(int, input(\"enter two numbers:\").split())\n",
        "y=np.random.random((a,b))\n",
        "print(y)\n",
        "print(y.mean())\n"
      ],
      "metadata": {
        "colab": {
          "base_uri": "https://localhost:8080/"
        },
        "id": "aP9Av8BaJeAd",
        "outputId": "7eb75307-b9a2-42b6-c3a5-228ade3a133d"
      },
      "execution_count": 3,
      "outputs": [
        {
          "output_type": "stream",
          "name": "stdout",
          "text": [
            "enter two numbers:4 5\n",
            "[[0.52212389 0.27372387 0.40523306 0.65633852 0.51634238]\n",
            " [0.16446069 0.66732755 0.31988378 0.56378035 0.77235158]\n",
            " [0.16261858 0.19436658 0.03823241 0.31809709 0.09293814]\n",
            " [0.99305656 0.39550153 0.43687478 0.70262675 0.88603551]]\n",
            "0.45409568005282164\n"
          ]
        }
      ]
    },
    {
      "cell_type": "code",
      "source": [
        "#Write a function to create a 2d array with 1 on the border and 0 inside. Take 2-D array shape as (a,b) as parameter to function\n",
        "def d2arr(a,b):\n",
        "  x=np.ones((a,b))\n",
        "  x[1:-1, 1:-1]=0\n",
        "  return x\n",
        "\n",
        "d2arr(4,5)"
      ],
      "metadata": {
        "colab": {
          "base_uri": "https://localhost:8080/"
        },
        "id": "x2JKeGtuMftA",
        "outputId": "1c3e2264-8817-487b-d6f2-06321de87f3c"
      },
      "execution_count": 4,
      "outputs": [
        {
          "output_type": "execute_result",
          "data": {
            "text/plain": [
              "array([[1., 1., 1., 1., 1.],\n",
              "       [1., 0., 0., 0., 1.],\n",
              "       [1., 0., 0., 0., 1.],\n",
              "       [1., 1., 1., 1., 1.]])"
            ]
          },
          "metadata": {},
          "execution_count": 4
        }
      ]
    },
    {
      "cell_type": "code",
      "source": [
        "#Create a vector of size 10 with values ranging from 0 to 1, both excluded\n",
        "np.linspace(0,1,12)[1:-1]"
      ],
      "metadata": {
        "colab": {
          "base_uri": "https://localhost:8080/"
        },
        "id": "Uir7520ybk-o",
        "outputId": "d642ed3e-8ca4-4f83-a7dd-12d7326ee6ef"
      },
      "execution_count": 5,
      "outputs": [
        {
          "output_type": "execute_result",
          "data": {
            "text/plain": [
              "array([0.09090909, 0.18181818, 0.27272727, 0.36363636, 0.45454545,\n",
              "       0.54545455, 0.63636364, 0.72727273, 0.81818182, 0.90909091])"
            ]
          },
          "metadata": {},
          "execution_count": 5
        }
      ]
    },
    {
      "cell_type": "code",
      "source": [
        "#Can you create a identity mattrix of shape (3,4). If yes write code for it\n",
        "#identity matrix is a square matrix, so shape(3,4) is not possible\n",
        "print(np.eye((3)))\n",
        "np.identity(4)\n"
      ],
      "metadata": {
        "colab": {
          "base_uri": "https://localhost:8080/"
        },
        "id": "m3HWWNxKc7Fu",
        "outputId": "249fe179-5828-4466-a376-7e3fb5a31420"
      },
      "execution_count": 6,
      "outputs": [
        {
          "output_type": "stream",
          "name": "stdout",
          "text": [
            "[[1. 0. 0.]\n",
            " [0. 1. 0.]\n",
            " [0. 0. 1.]]\n"
          ]
        },
        {
          "output_type": "execute_result",
          "data": {
            "text/plain": [
              "array([[1., 0., 0., 0.],\n",
              "       [0., 1., 0., 0.],\n",
              "       [0., 0., 1., 0.],\n",
              "       [0., 0., 0., 1.]])"
            ]
          },
          "metadata": {},
          "execution_count": 6
        }
      ]
    },
    {
      "cell_type": "code",
      "source": [
        "# Create a 5x5 matrix with row values ranging from 0 to 4\n",
        "x=np.zeros((5,5))\n",
        "x+=np.arange(5)\n",
        "print(x)\n",
        "\n"
      ],
      "metadata": {
        "colab": {
          "base_uri": "https://localhost:8080/"
        },
        "id": "N0PmbDfedxIM",
        "outputId": "4b34874a-77cf-4191-f277-ce50ee4eece3"
      },
      "execution_count": 7,
      "outputs": [
        {
          "output_type": "stream",
          "name": "stdout",
          "text": [
            "[[0. 1. 2. 3. 4.]\n",
            " [0. 1. 2. 3. 4.]\n",
            " [0. 1. 2. 3. 4.]\n",
            " [0. 1. 2. 3. 4.]\n",
            " [0. 1. 2. 3. 4.]]\n"
          ]
        }
      ]
    },
    {
      "cell_type": "code",
      "source": [
        "from numpy.lib.scimath import sqrt\n",
        "#Consider a random integer (in range 1 to 100) vector with shape (10,2) representing coordinates, and coordinates of a point as \n",
        "#array is given. Create an array of distance of each point in the random vectros from the given point. Distance array should be interger type\n",
        "a=np.random.randint(1,100,(10,2))\n",
        "p=np.array([2,3])\n",
        "#print(a)\n",
        "np.sqrt(np.sum((a-p)**2, axis=1)).astype(int)\n"
      ],
      "metadata": {
        "colab": {
          "base_uri": "https://localhost:8080/"
        },
        "id": "epvMCeIefGi7",
        "outputId": "0404d930-37bf-465a-87d1-08b177afd166"
      },
      "execution_count": 8,
      "outputs": [
        {
          "output_type": "execute_result",
          "data": {
            "text/plain": [
              "array([ 89,  73,  49,  72,  63, 107,  93,  85, 132,  83])"
            ]
          },
          "metadata": {},
          "execution_count": 8
        }
      ]
    },
    {
      "cell_type": "code",
      "source": [
        "#Consider a (6,7,8) shape array, what is the index (x,y,z) of the 100th element?\n",
        "a=np.zeros((6,7,8))\n",
        "print(a)\n",
        "np.unravel_index(100, (6,7,8))"
      ],
      "metadata": {
        "colab": {
          "base_uri": "https://localhost:8080/"
        },
        "id": "w6iHqe8r-PXK",
        "outputId": "7590a682-3012-4375-bd30-38b81ae2d68c"
      },
      "execution_count": 9,
      "outputs": [
        {
          "output_type": "stream",
          "name": "stdout",
          "text": [
            "[[[0. 0. 0. 0. 0. 0. 0. 0.]\n",
            "  [0. 0. 0. 0. 0. 0. 0. 0.]\n",
            "  [0. 0. 0. 0. 0. 0. 0. 0.]\n",
            "  [0. 0. 0. 0. 0. 0. 0. 0.]\n",
            "  [0. 0. 0. 0. 0. 0. 0. 0.]\n",
            "  [0. 0. 0. 0. 0. 0. 0. 0.]\n",
            "  [0. 0. 0. 0. 0. 0. 0. 0.]]\n",
            "\n",
            " [[0. 0. 0. 0. 0. 0. 0. 0.]\n",
            "  [0. 0. 0. 0. 0. 0. 0. 0.]\n",
            "  [0. 0. 0. 0. 0. 0. 0. 0.]\n",
            "  [0. 0. 0. 0. 0. 0. 0. 0.]\n",
            "  [0. 0. 0. 0. 0. 0. 0. 0.]\n",
            "  [0. 0. 0. 0. 0. 0. 0. 0.]\n",
            "  [0. 0. 0. 0. 0. 0. 0. 0.]]\n",
            "\n",
            " [[0. 0. 0. 0. 0. 0. 0. 0.]\n",
            "  [0. 0. 0. 0. 0. 0. 0. 0.]\n",
            "  [0. 0. 0. 0. 0. 0. 0. 0.]\n",
            "  [0. 0. 0. 0. 0. 0. 0. 0.]\n",
            "  [0. 0. 0. 0. 0. 0. 0. 0.]\n",
            "  [0. 0. 0. 0. 0. 0. 0. 0.]\n",
            "  [0. 0. 0. 0. 0. 0. 0. 0.]]\n",
            "\n",
            " [[0. 0. 0. 0. 0. 0. 0. 0.]\n",
            "  [0. 0. 0. 0. 0. 0. 0. 0.]\n",
            "  [0. 0. 0. 0. 0. 0. 0. 0.]\n",
            "  [0. 0. 0. 0. 0. 0. 0. 0.]\n",
            "  [0. 0. 0. 0. 0. 0. 0. 0.]\n",
            "  [0. 0. 0. 0. 0. 0. 0. 0.]\n",
            "  [0. 0. 0. 0. 0. 0. 0. 0.]]\n",
            "\n",
            " [[0. 0. 0. 0. 0. 0. 0. 0.]\n",
            "  [0. 0. 0. 0. 0. 0. 0. 0.]\n",
            "  [0. 0. 0. 0. 0. 0. 0. 0.]\n",
            "  [0. 0. 0. 0. 0. 0. 0. 0.]\n",
            "  [0. 0. 0. 0. 0. 0. 0. 0.]\n",
            "  [0. 0. 0. 0. 0. 0. 0. 0.]\n",
            "  [0. 0. 0. 0. 0. 0. 0. 0.]]\n",
            "\n",
            " [[0. 0. 0. 0. 0. 0. 0. 0.]\n",
            "  [0. 0. 0. 0. 0. 0. 0. 0.]\n",
            "  [0. 0. 0. 0. 0. 0. 0. 0.]\n",
            "  [0. 0. 0. 0. 0. 0. 0. 0.]\n",
            "  [0. 0. 0. 0. 0. 0. 0. 0.]\n",
            "  [0. 0. 0. 0. 0. 0. 0. 0.]\n",
            "  [0. 0. 0. 0. 0. 0. 0. 0.]]]\n"
          ]
        },
        {
          "output_type": "execute_result",
          "data": {
            "text/plain": [
              "(1, 5, 4)"
            ]
          },
          "metadata": {},
          "execution_count": 9
        }
      ]
    },
    {
      "cell_type": "markdown",
      "source": [
        "You are given a space separated list of numbers. Your task is to print a reversed NumPy array with the element type float.\n",
        "\n",
        "Input Format:\n",
        "\n",
        "A single line of input containing space separated numbers.\n",
        "\n",
        "Output Format:\n",
        "\n",
        "Print the reverse NumPy array with type float.\n",
        "\n",
        "Example 1:\n",
        "\n",
        "Input:\n",
        "\n",
        "1 2 3 4 -8 -10\n",
        "Output:\n",
        "\n",
        "[-10.  -8.   4.   3.   2.   1.]"
      ],
      "metadata": {
        "id": "8ixobYKGBWfe"
      }
    },
    {
      "cell_type": "code",
      "source": [
        "#Q-9: Arrays\n",
        "x=input(\"enter the numbers\").split()\n",
        "np.array(x[::-1], dtype=np.float32)"
      ],
      "metadata": {
        "colab": {
          "base_uri": "https://localhost:8080/"
        },
        "id": "wCreli5GBdX0",
        "outputId": "66a97bd9-6e96-4292-ae26-d5c3bf0df645"
      },
      "execution_count": 10,
      "outputs": [
        {
          "name": "stdout",
          "output_type": "stream",
          "text": [
            "enter the numbers5 4 3 2 -8\n"
          ]
        },
        {
          "output_type": "execute_result",
          "data": {
            "text/plain": [
              "array([-8.,  2.,  3.,  4.,  5.], dtype=float32)"
            ]
          },
          "metadata": {},
          "execution_count": 10
        }
      ]
    },
    {
      "cell_type": "markdown",
      "source": [
        "-10: Elements count\n",
        "\n",
        "Count the number of elements of a numpy array.\n",
        "\n",
        "Example 1:\n",
        "Input:\n",
        "\n",
        "np.array([ ])\n",
        "\n",
        "Output:\n",
        "elements_count :  0\n",
        "\n",
        "Example 2:\n",
        "\n",
        "Input:\n",
        "np.array([1, 2])\n",
        "\n",
        "Output:\n",
        "elements_count :  2"
      ],
      "metadata": {
        "id": "yz3AYvE1DohA"
      }
    },
    {
      "cell_type": "code",
      "source": [
        "x=np.array([1, 2])\n",
        "np.size(x)"
      ],
      "metadata": {
        "colab": {
          "base_uri": "https://localhost:8080/"
        },
        "id": "aCKM31JFDw9y",
        "outputId": "94d2a716-badd-4237-8483-831421f0c227"
      },
      "execution_count": 11,
      "outputs": [
        {
          "output_type": "execute_result",
          "data": {
            "text/plain": [
              "2"
            ]
          },
          "metadata": {},
          "execution_count": 11
        }
      ]
    },
    {
      "cell_type": "markdown",
      "source": [
        "Q-11: Softmax function\n",
        "Create a Python function to calculate the Softmax of the given numpy 1D array. The function only accepts the numpy 1D array, otherwise raise error.\n",
        "\n",
        "$$\\Large \\sigma(\\vec z)_i = \\frac{e^{z_i}}{\\sum_{j=i}^{K}{e^{z_j}}}$$"
      ],
      "metadata": {
        "id": "SaSHuKERFgD6"
      }
    },
    {
      "cell_type": "code",
      "source": [
        "def softmax(arr):\n",
        "  \n",
        "  if (type(arr) != np.ndarray):\n",
        "    print('Requires Numpy Array')\n",
        "  elif arr.ndim > 1:\n",
        "    print('Requies 1D Array')\n",
        "  s = np.sum(np.exp(arr))\n",
        "  return np.exp(arr)/s\n",
        "  \n",
        "\n",
        "softmax(np.array([86.03331084, 37.7285648,  48.64908087, 87.16563062, 38.40852563, 37.20006318]))\n"
      ],
      "metadata": {
        "id": "Z4mBD90UFMDz",
        "colab": {
          "base_uri": "https://localhost:8080/"
        },
        "outputId": "fe798792-90ca-4706-f422-826f67264f2e"
      },
      "execution_count": 22,
      "outputs": [
        {
          "output_type": "execute_result",
          "data": {
            "text/plain": [
              "array([2.43733248e-01, 2.56112114e-22, 1.41628283e-17, 7.56266752e-01,\n",
              "       5.05514197e-22, 1.50974911e-22])"
            ]
          },
          "metadata": {},
          "execution_count": 22
        }
      ]
    },
    {
      "cell_type": "code",
      "source": [],
      "metadata": {
        "id": "DSHUiM0i52rE"
      },
      "execution_count": null,
      "outputs": []
    },
    {
      "cell_type": "markdown",
      "source": [
        "Q-12: Vertical stack\n",
        "\n",
        "Write a python function that accepts infinite number of numpy arrays and do the vertical stack to them. Then return that new array as result. The function only accepts the numpy array, otherwise raise error.\n",
        "\n",
        "Example 1:\n",
        "\n",
        "Input:\n",
        "\n",
        "a= [[0 1 2 3 4]\n",
        " [5 6 7 8 9]]\n",
        "\n",
        "b= [[1 1 1 1 1]\n",
        " [1 1 1 1 1]]\n",
        " \n",
        "Output:\n",
        "\n",
        "[[0 1 2 3 4]\n",
        " [5 6 7 8 9]\n",
        " [1 1 1 1 1]\n",
        " [1 1 1 1 1]]\n",
        "\n",
        "Example 2:\n",
        "\n",
        "Input:\n",
        "\n",
        "a= [[0 1 2 3 4]\n",
        " [5 6 7 8 9]]\n",
        "\n",
        "b= [[1 1 1 1 1]\n",
        " [1 1 1 1 1]]\n",
        "\n",
        "c= [[0.10117373 0.1677244  0.73764059 0.83166097 0.48985695]\n",
        " [0.44581567 0.13502419 0.55692335 0.16479622 0.61193593]] \n",
        "\n",
        "Output:\n",
        "\n",
        "[[0.         1.         2.         3.         4.        ]\n",
        " [5.         6.         7.         8.         9.        ]\n",
        " [1.         1.         1.         1.         1.        ]\n",
        " [1.         1.         1.         1.         1.        ]\n",
        " [0.10117373 0.1677244  0.73764059 0.83166097 0.48985695]\n",
        " [0.44581567 0.13502419 0.55692335 0.16479622 0.61193593]]"
      ],
      "metadata": {
        "id": "nEi1OAz55ep4"
      }
    },
    {
      "cell_type": "code",
      "source": [
        "def vertical_stack(*args):\n",
        "  for i in args:\n",
        "    if type(i) != np.ndarray:\n",
        "      raise TypeError(\"Requires Numpy Array\")\n",
        "    return np.vstack(args)\n",
        "  \n",
        "\n",
        "a=np.arange(10).reshape(2, -1)\n",
        "print('a =', a)\n",
        "b=np.repeat(1,10).reshape(2, -1)\n",
        "print('b =', b)\n",
        "\n",
        "vertical_stack(a,b)\n"
      ],
      "metadata": {
        "colab": {
          "base_uri": "https://localhost:8080/"
        },
        "id": "EDECG3Yv59G3",
        "outputId": "f5be49cc-e753-4f1d-ddc6-10de52f4c84f"
      },
      "execution_count": 29,
      "outputs": [
        {
          "output_type": "stream",
          "name": "stdout",
          "text": [
            "a = [[0 1 2 3 4]\n",
            " [5 6 7 8 9]]\n",
            "b = [[1 1 1 1 1]\n",
            " [1 1 1 1 1]]\n"
          ]
        },
        {
          "output_type": "execute_result",
          "data": {
            "text/plain": [
              "array([[0, 1, 2, 3, 4],\n",
              "       [5, 6, 7, 8, 9],\n",
              "       [1, 1, 1, 1, 1],\n",
              "       [1, 1, 1, 1, 1]])"
            ]
          },
          "metadata": {},
          "execution_count": 29
        }
      ]
    },
    {
      "cell_type": "markdown",
      "source": [
        "Q-13: Dates\n",
        "\n",
        "Create a python function named date_array that accepts two dates as string format and returns a numpy array of dates between those 2 dates. The function only accept 2 strings, otherwise raise error. The date format should be like this only: 2022-12-6. The end date should be included and for simplicity, choose dates from a same year.\n",
        "\n",
        "Example 1:\n",
        "\n",
        "Input:\n",
        "\n",
        "date_array(start = '2020-09-15', end = '2020-09-25')\n",
        "\n",
        "Output:\n",
        "\n",
        "['2020-09-15', '2020-09-16', '2020-09-17', '2020-09-18',\n",
        " '2020-09-19', '2020-09-20', '2020-09-21', '2020-09-22',\n",
        " '2020-09-23', '2020-09-24', '2020-09-25']"
      ],
      "metadata": {
        "id": "7qJmebtXIneh"
      }
    },
    {
      "cell_type": "code",
      "source": [
        "from logging import raiseExceptions\n",
        "def date_array(start: str, end: str):\n",
        "    if type(start) != str or type(end) != str:\n",
        "        raise TypeError\n",
        "        \n",
        "    total_days_of_month = {\"01\": 31, \"02\": 28, \"03\": 31, \"04\":30, \"05\": 31, \"06\":30, \"07\":31, \"08\":31, \"09\":30, \"10\": 31, \"11\":30, \"12\":31}\n",
        "\n",
        "    end = end.split(\"-\")\n",
        "    end_last = int(end[-1]) + 1\n",
        "    \n",
        "    # If the next day of end falls in the next month, account for that\n",
        "    if total_days_of_month[end[-2]] < end_last:\n",
        "        days_diff = end_last - total_days_of_month[end[-2]]\n",
        "        end[-1] = f'0{days_diff}' if days_diff< 10 else f'{days_diff}'\n",
        "        next_month = int(end[-2]) + 1\n",
        "        end[-2] = f'0{next_month}' if next_month< 10 else f'{next_month}'\n",
        "    else:\n",
        "        end[-1] = f'0{end_last}' if end_last < 10 else f'{end_last}'\n",
        "    end = \"-\".join(end)\n",
        "    return np.arange(start, end, dtype=\"datetime64[D]\")    # Use arange() to generate all dates between start and end \n",
        "date_array(start = '2020-11-25', end = '2020-11-30')"
      ],
      "metadata": {
        "colab": {
          "base_uri": "https://localhost:8080/"
        },
        "id": "Y74z3LEBIzU1",
        "outputId": "d28a7f67-3c3b-487d-e229-adc7d0b4ed4b"
      },
      "execution_count": 33,
      "outputs": [
        {
          "output_type": "execute_result",
          "data": {
            "text/plain": [
              "array(['2020-11-25', '2020-11-26', '2020-11-27', '2020-11-28',\n",
              "       '2020-11-29', '2020-11-30'], dtype='datetime64[D]')"
            ]
          },
          "metadata": {},
          "execution_count": 33
        }
      ]
    },
    {
      "cell_type": "markdown",
      "source": [
        "Q-14: Subtract the mean of each row from a matrix."
      ],
      "metadata": {
        "id": "HbQjpajhRF37"
      }
    },
    {
      "cell_type": "code",
      "source": [
        "x=np.random.random((5,4))\n",
        "print(x)\n",
        "x.mean(axis=1, keepdims=True)"
      ],
      "metadata": {
        "colab": {
          "base_uri": "https://localhost:8080/"
        },
        "id": "s_yLuYg4RNSn",
        "outputId": "c40e510f-8f63-41d2-dffc-5064283658f4"
      },
      "execution_count": 38,
      "outputs": [
        {
          "output_type": "stream",
          "name": "stdout",
          "text": [
            "[[0.66264796 0.41690859 0.51075539 0.90375709]\n",
            " [0.99976304 0.40641322 0.59585279 0.49884145]\n",
            " [0.17321173 0.54210218 0.13465458 0.77099936]\n",
            " [0.30091527 0.72163264 0.66942208 0.08215866]\n",
            " [0.1589751  0.02239628 0.44109347 0.97433946]]\n"
          ]
        },
        {
          "output_type": "execute_result",
          "data": {
            "text/plain": [
              "array([[0.62351726],\n",
              "       [0.62521762],\n",
              "       [0.40524196],\n",
              "       [0.44353216],\n",
              "       [0.39920107]])"
            ]
          },
          "metadata": {},
          "execution_count": 38
        }
      ]
    },
    {
      "cell_type": "markdown",
      "source": [
        "### `Q-15:` Swap column-1 of array with column-2 in the array."
      ],
      "metadata": {
        "id": "hdGWWPIRSMwC"
      }
    },
    {
      "cell_type": "code",
      "source": [
        "a=np.arange(9).reshape(3,3)\n",
        "print(a)\n",
        "a[:,[0,2,1]]\n"
      ],
      "metadata": {
        "colab": {
          "base_uri": "https://localhost:8080/"
        },
        "id": "2u3fcm1rSWJZ",
        "outputId": "1afbd75b-f7f6-4d9f-cef7-18c04f8dafec"
      },
      "execution_count": 40,
      "outputs": [
        {
          "output_type": "stream",
          "name": "stdout",
          "text": [
            "[[0 1 2]\n",
            " [3 4 5]\n",
            " [6 7 8]]\n"
          ]
        },
        {
          "output_type": "execute_result",
          "data": {
            "text/plain": [
              "array([[0, 2, 1],\n",
              "       [3, 5, 4],\n",
              "       [6, 8, 7]])"
            ]
          },
          "metadata": {},
          "execution_count": 40
        }
      ]
    },
    {
      "cell_type": "code",
      "source": [],
      "metadata": {
        "id": "FKDwvDP1TM6A"
      },
      "execution_count": null,
      "outputs": []
    },
    {
      "cell_type": "markdown",
      "source": [
        "Q-16: Replace odd elements in arrays with -1."
      ],
      "metadata": {
        "id": "oQ8Pj3TRTNyv"
      }
    },
    {
      "cell_type": "code",
      "source": [
        "a=np.arange(10)\n",
        "print(a)\n",
        "a[a%2==1]=-1\n",
        "a"
      ],
      "metadata": {
        "colab": {
          "base_uri": "https://localhost:8080/"
        },
        "id": "MthEKJasTT9X",
        "outputId": "52f4b6ac-56eb-4a5d-a206-1cf0f05b1280"
      },
      "execution_count": 45,
      "outputs": [
        {
          "output_type": "stream",
          "name": "stdout",
          "text": [
            "[0 1 2 3 4 5 6 7 8 9]\n"
          ]
        },
        {
          "output_type": "execute_result",
          "data": {
            "text/plain": [
              "array([ 0, -1,  2, -1,  4, -1,  6, -1,  8, -1])"
            ]
          },
          "metadata": {},
          "execution_count": 45
        }
      ]
    },
    {
      "cell_type": "markdown",
      "source": [
        "Q-17: Given two arrays of same shape make an array of max out of two arrays. (Numpy way)\n",
        "\n",
        "a=np.array([6,3,1,5,8])\n",
        "\n",
        "b=np.array([3,2,1,7,2])\n",
        "\n",
        "Result-> [6 3 1 7 8]"
      ],
      "metadata": {
        "id": "HACnLkKBUG5k"
      }
    },
    {
      "cell_type": "code",
      "source": [
        "a=np.array([6,3,1,5,8])\n",
        "b=np.array([3,2,1,7,2])\n",
        "a[b>a] = b[a<b]\n",
        "a"
      ],
      "metadata": {
        "colab": {
          "base_uri": "https://localhost:8080/"
        },
        "id": "nhyIBQzpUMxS",
        "outputId": "76a605b0-bd58-4c14-973b-5362e0f01690"
      },
      "execution_count": 47,
      "outputs": [
        {
          "output_type": "execute_result",
          "data": {
            "text/plain": [
              "array([6, 3, 1, 7, 8])"
            ]
          },
          "metadata": {},
          "execution_count": 47
        }
      ]
    },
    {
      "cell_type": "markdown",
      "source": [
        "### `Q-18` Answer below asked questions on given array:\n",
        "\n",
        "1.   List item\n",
        "2.   List item\n",
        "\n",
        "\n",
        "1. Fetch Every alternate column of the array\n",
        "2. Normalise the given array\n",
        "\n",
        "https://en.wikipedia.org/wiki/Normalization_(statistics)\n",
        "\n",
        "There are different form of normalisation for this question use below formula.\n",
        "\n",
        "$$\\large X_{normalized} = \\frac{X - X_{min}}{X_{max} - X_{min}}$$\n",
        "\n",
        "```python\n",
        "arr1=np.random.randint(low=1, high=10000, size=40).reshape(8,5)\n",
        "```\n"
      ],
      "metadata": {
        "id": "mfgxBHBsWjbg"
      }
    },
    {
      "cell_type": "code",
      "source": [
        "arr1=np.random.randint(low=1, high=10000, size=40).reshape(8,5)\n",
        "arr1"
      ],
      "metadata": {
        "colab": {
          "base_uri": "https://localhost:8080/"
        },
        "id": "98Ss9EYGWxoY",
        "outputId": "aa5ea1c8-58ee-41b6-bb5b-03a21c277621"
      },
      "execution_count": 48,
      "outputs": [
        {
          "output_type": "execute_result",
          "data": {
            "text/plain": [
              "array([[5266, 4385,  142, 7114, 7512],\n",
              "       [ 969, 4346, 1616, 9468, 4660],\n",
              "       [2722, 6216, 8025, 2343, 3944],\n",
              "       [6734, 1265,  468, 4752, 2062],\n",
              "       [6210,  879, 1278,  515, 9636],\n",
              "       [5966, 8809, 3404, 8451, 1413],\n",
              "       [5338, 1827, 2043, 7766, 4014],\n",
              "       [1567, 7575, 7432, 2671, 7133]])"
            ]
          },
          "metadata": {},
          "execution_count": 48
        }
      ]
    },
    {
      "cell_type": "code",
      "source": [
        "arr1[:, ::2]"
      ],
      "metadata": {
        "colab": {
          "base_uri": "https://localhost:8080/"
        },
        "id": "cT1X7BzwXN02",
        "outputId": "af04bf0a-f7b5-4dab-ac22-5f2403ab6b24"
      },
      "execution_count": 51,
      "outputs": [
        {
          "output_type": "execute_result",
          "data": {
            "text/plain": [
              "array([[5266,  142, 7512],\n",
              "       [ 969, 1616, 4660],\n",
              "       [2722, 8025, 3944],\n",
              "       [6734,  468, 2062],\n",
              "       [6210, 1278, 9636],\n",
              "       [5966, 3404, 1413],\n",
              "       [5338, 2043, 4014],\n",
              "       [1567, 7432, 7133]])"
            ]
          },
          "metadata": {},
          "execution_count": 51
        }
      ]
    },
    {
      "cell_type": "code",
      "source": [
        "print(arr1.max())\n",
        "print(arr1.min())"
      ],
      "metadata": {
        "colab": {
          "base_uri": "https://localhost:8080/"
        },
        "id": "1LVo7w7lX8Br",
        "outputId": "0dca8684-1c12-466e-db35-b8c5abc58d15"
      },
      "execution_count": 54,
      "outputs": [
        {
          "output_type": "stream",
          "name": "stdout",
          "text": [
            "9636\n",
            "142\n"
          ]
        }
      ]
    },
    {
      "cell_type": "code",
      "source": [
        "(arr1-arr1.min())/(arr1.max()-arr1.min())"
      ],
      "metadata": {
        "colab": {
          "base_uri": "https://localhost:8080/"
        },
        "id": "HHlAzQTPYJRJ",
        "outputId": "c9a2579d-8b2a-488b-87cf-13356637182e"
      },
      "execution_count": 56,
      "outputs": [
        {
          "output_type": "execute_result",
          "data": {
            "text/plain": [
              "array([[0.53970929, 0.44691384, 0.        , 0.73435854, 0.77627976],\n",
              "       [0.08710765, 0.44280598, 0.15525595, 0.98230461, 0.4758795 ],\n",
              "       [0.27175058, 0.63977249, 0.83031388, 0.23183063, 0.40046345],\n",
              "       [0.69433326, 0.11828523, 0.03433748, 0.48556983, 0.20223299],\n",
              "       [0.63914051, 0.07762798, 0.11965452, 0.03928797, 1.        ],\n",
              "       [0.61344007, 0.91289235, 0.34358542, 0.87518433, 0.13387403],\n",
              "       [0.54729303, 0.17748051, 0.20023173, 0.80303349, 0.40783653],\n",
              "       [0.1500948 , 0.78291553, 0.76785338, 0.26637877, 0.73635981]])"
            ]
          },
          "metadata": {},
          "execution_count": 56
        }
      ]
    },
    {
      "cell_type": "markdown",
      "source": [
        "### `Q-19:` Write a function which will accept 2 arguments.\n",
        "First: A 1D numpy array arr\n",
        "\n",
        "Second: An integer n {Please make sure n<=len(arr)}\n",
        "\n",
        "Output: The output should be the nth largest item out of the array\n",
        "```\n",
        "# Example1 : arr=(12,34,40,7,1,0) and n=3, the output should be 12\n",
        "# Example2 : arr=(12,34,40,7,1,0) and n=1, the output should be 40\n",
        "```"
      ],
      "metadata": {
        "id": "c8pj95JfY0na"
      }
    },
    {
      "cell_type": "code",
      "source": [
        "def nthmax(arr, n):\n",
        "  if n>len(arr):\n",
        "    raise IndexError('N is way out of limit')\n",
        "  arr.sort()\n",
        "  return arr[-n]\n",
        "\n",
        "nthmax(np.array([12,34,40,7,1,0]), 2)\n",
        "\n",
        "\n",
        "\n",
        "\n"
      ],
      "metadata": {
        "colab": {
          "base_uri": "https://localhost:8080/"
        },
        "id": "xBljtWh_Y2yM",
        "outputId": "812ac552-9ccb-4053-d25f-50f508fb3082"
      },
      "execution_count": 61,
      "outputs": [
        {
          "output_type": "execute_result",
          "data": {
            "text/plain": [
              "34"
            ]
          },
          "metadata": {},
          "execution_count": 61
        }
      ]
    },
    {
      "cell_type": "markdown",
      "source": [
        "### `Q-20:` Create the following pattern without hardcoding. Use only numpy functions and the below input array a.\n",
        "```\n",
        "# Input: a = np.array([1,2,3])\n",
        "# Output: array([1, 1, 1, 2, 2, 2, 3, 3, 3, 1, 2, 3, 1, 2, 3, 1, 2, 3])\n",
        "```"
      ],
      "metadata": {
        "id": "jScYMcybd4EM"
      }
    },
    {
      "cell_type": "code",
      "source": [
        "a = np.array([1,2,3])\n",
        "print(np.repeat(a,3))\n",
        "print(np.tile(a,3))\n",
        "np.hstack([np.repeat(a, 3), np.tile(a, 3)])\n"
      ],
      "metadata": {
        "colab": {
          "base_uri": "https://localhost:8080/"
        },
        "id": "6cnOqpmYd5qm",
        "outputId": "07f40443-264a-4d1a-fe7e-e58052290583"
      },
      "execution_count": 64,
      "outputs": [
        {
          "output_type": "stream",
          "name": "stdout",
          "text": [
            "[1 1 1 2 2 2 3 3 3]\n",
            "[1 2 3 1 2 3 1 2 3]\n"
          ]
        },
        {
          "output_type": "execute_result",
          "data": {
            "text/plain": [
              "array([1, 1, 1, 2, 2, 2, 3, 3, 3, 1, 2, 3, 1, 2, 3, 1, 2, 3])"
            ]
          },
          "metadata": {},
          "execution_count": 64
        }
      ]
    }
  ]
}