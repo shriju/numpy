{
  "nbformat": 4,
  "nbformat_minor": 0,
  "metadata": {
    "colab": {
      "provenance": [],
      "include_colab_link": true
    },
    "kernelspec": {
      "name": "python3",
      "display_name": "Python 3"
    },
    "language_info": {
      "name": "python"
    }
  },
  "cells": [
    {
      "cell_type": "markdown",
      "metadata": {
        "id": "view-in-github",
        "colab_type": "text"
      },
      "source": [
        "<a href=\"https://colab.research.google.com/github/shriju/numpy/blob/main/task_15_numpy_tricks.ipynb\" target=\"_parent\"><img src=\"https://colab.research.google.com/assets/colab-badge.svg\" alt=\"Open In Colab\"/></a>"
      ]
    },
    {
      "cell_type": "markdown",
      "source": [
        "###`Q-1:` Create a random 3x4 matrix with value between 0-100. And perform below tasks\n",
        "\n",
        "    i. Sort this matrix. np.sort()\n",
        "    ii. Sort this matrix based on values in 2nd column.\n",
        "    iii. Sort this matrix based on max value in each row.\n",
        "    iv. Sort based on elements value.\n"
      ],
      "metadata": {
        "id": "J88qfqQEk_sT"
      }
    },
    {
      "cell_type": "code",
      "source": [
        "import numpy as np"
      ],
      "metadata": {
        "id": "5f1mxP7PooP_"
      },
      "execution_count": 1,
      "outputs": []
    },
    {
      "cell_type": "markdown",
      "source": [
        "See examples:\n",
        "```\n",
        "arr = \n",
        "    [[92 90 74]\n",
        "    [ 6 63 93]\n",
        "    [15 93 96]\n",
        "    [70 60 48]]\n",
        "```\n",
        "```\n",
        "i. np.sort\n",
        "[[74 90 92]\n",
        " [ 6 63 93]\n",
        " [15 93 96]\n",
        " [48 60 70]]\n",
        "\n",
        "ii. based on 2nd column\n",
        "[[70 60 48]\n",
        " [ 6 63 93]\n",
        " [92 90 74]\n",
        " [15 93 96]]\n",
        "\n",
        "iii. based on row max- ascending\n",
        "[[15 93 96]\n",
        " [ 6 63 93]\n",
        " [92 90 74]\n",
        " [70 60 48]]\n",
        "\n",
        "iv. based on elements value\n",
        "[[ 6 15 48]\n",
        " [60 63 70]\n",
        " [74 90 92]\n",
        " [93 93 96]]\n",
        "\n",
        "```"
      ],
      "metadata": {
        "id": "xpOwOdhqlE9R"
      }
    },
    {
      "cell_type": "code",
      "source": [
        "# code here\n",
        "arr=np.random.randint(1,100,(4,3))\n",
        "print(arr)\n",
        "#1.Sort this matrix. np.sort()\n",
        "print(np.sort(arr))\n",
        "#2.Sort this matrix based on values in 2nd column\n",
        "print(arr[arr[:,1].argsort()])\n",
        "#3.Sort this matrix based on max value in each row\n",
        "print(np.array(sorted(arr, key=lambda x: max(x))))\n",
        "#4.iv. Sort based on elements value\n",
        "print(np.sort(arr, axis=None).reshape(4,3))\n",
        "\n"
      ],
      "metadata": {
        "id": "Auy-guUwlALv",
        "outputId": "63e8135c-23ca-4137-c704-1c0a42389a95",
        "colab": {
          "base_uri": "https://localhost:8080/"
        }
      },
      "execution_count": 2,
      "outputs": [
        {
          "output_type": "stream",
          "name": "stdout",
          "text": [
            "[[21 16 99]\n",
            " [14 40  4]\n",
            " [76  4  4]\n",
            " [ 1 28 57]]\n",
            "[[16 21 99]\n",
            " [ 4 14 40]\n",
            " [ 4  4 76]\n",
            " [ 1 28 57]]\n",
            "[[76  4  4]\n",
            " [21 16 99]\n",
            " [ 1 28 57]\n",
            " [14 40  4]]\n",
            "[[14 40  4]\n",
            " [ 1 28 57]\n",
            " [76  4  4]\n",
            " [21 16 99]]\n",
            "[[ 1  4  4]\n",
            " [ 4 14 16]\n",
            " [21 28 40]\n",
            " [57 76 99]]\n"
          ]
        }
      ]
    },
    {
      "cell_type": "markdown",
      "source": [
        "###`Q-2:` There is an array of marks of 5 students in 4 subjects. Further you are asked to perform below task.\n",
        "    i. Add marks every student of an extra subject in the same array.\n",
        "    ii. Add two new students marks in respective 5 subjects.(one subject added in above task)\n",
        "    iii. Add extra column with sum of all subjects(5-subjects) marks\n",
        "    iv. Sort the array(non-ascending order) on total marks column--one added in above task. Show top 2 rows.\n",
        "\n",
        "Note: Change dimension of arrays during concatenation or appending if required."
      ],
      "metadata": {
        "id": "Jx_I3gx9lBay"
      }
    },
    {
      "cell_type": "markdown",
      "source": [
        "Given Array-\n",
        "```\n",
        "marks = [[13, 10,  9, 33],\n",
        "       [63, 46, 90, 42],\n",
        "       [39, 76, 13, 29],\n",
        "       [82,  9, 29, 78],\n",
        "       [67, 61, 59, 36]]\n",
        "\n",
        "extra_subject = [41, 87, 72, 36, 92]\n",
        "#Two extra students record-\n",
        "rec1 = [77, 83, 98, 95, 89]\n",
        "rec2 = [92, 71, 52, 61, 53]\n",
        "```"
      ],
      "metadata": {
        "id": "lXF-CE6ylNIw"
      }
    },
    {
      "cell_type": "code",
      "source": [
        "# code here\n",
        "marks = np.array([[13, 10,  9, 33],\n",
        "       [63, 46, 90, 42],\n",
        "       [39, 76, 13, 29],\n",
        "       [82,  9, 29, 78],\n",
        "       [67, 61, 59, 36]])\n",
        "print(marks)\n",
        "#1.Add marks every student of an extra subject in the same array\n",
        "extra_subject = np.array([41, 87, 72, 36, 92]).reshape(-1,1)\n",
        "print(extra_subject)\n",
        "marks=(np.concatenate([marks, extra_subject],axis =1))\n",
        "print(marks)\n",
        "#2.Add two new students marks in respective 5 subjects.(one subject added in above task)\n",
        "# Two extra students record-\n",
        "rec1 = np.array([77, 83, 98, 95, 89]).reshape(1,-1)\n",
        "rec2 = np.array([92, 71, 52, 61, 53]).reshape(1,-1)\n",
        "marks=np.concatenate([marks, rec1, rec2], axis=0)\n",
        "print(marks)\n",
        "#3.Add extra column with sum of all subjects(5-subjects) marks\n",
        "sum_stud=marks.sum(axis=1, keepdims=True)\n",
        "print(sum_stud)\n",
        "marks=np.concatenate([marks, sum_stud], axis=1)\n",
        "print(marks)\n",
        "#4.Sort the array(non-ascending order) on total marks column--one added in above task. Show top 2 rows\n",
        "print(np.array(sorted(marks, key=lambda x: x[-1])))\n",
        "\n",
        "\n",
        "\n",
        "\n"
      ],
      "metadata": {
        "id": "7YKsWO2olMkq",
        "colab": {
          "base_uri": "https://localhost:8080/"
        },
        "outputId": "79b59ea6-9472-4211-dcd5-5c561c7f9859"
      },
      "execution_count": 3,
      "outputs": [
        {
          "output_type": "stream",
          "name": "stdout",
          "text": [
            "[[13 10  9 33]\n",
            " [63 46 90 42]\n",
            " [39 76 13 29]\n",
            " [82  9 29 78]\n",
            " [67 61 59 36]]\n",
            "[[41]\n",
            " [87]\n",
            " [72]\n",
            " [36]\n",
            " [92]]\n",
            "[[13 10  9 33 41]\n",
            " [63 46 90 42 87]\n",
            " [39 76 13 29 72]\n",
            " [82  9 29 78 36]\n",
            " [67 61 59 36 92]]\n",
            "[[13 10  9 33 41]\n",
            " [63 46 90 42 87]\n",
            " [39 76 13 29 72]\n",
            " [82  9 29 78 36]\n",
            " [67 61 59 36 92]\n",
            " [77 83 98 95 89]\n",
            " [92 71 52 61 53]]\n",
            "[[106]\n",
            " [328]\n",
            " [229]\n",
            " [234]\n",
            " [315]\n",
            " [442]\n",
            " [329]]\n",
            "[[ 13  10   9  33  41 106]\n",
            " [ 63  46  90  42  87 328]\n",
            " [ 39  76  13  29  72 229]\n",
            " [ 82   9  29  78  36 234]\n",
            " [ 67  61  59  36  92 315]\n",
            " [ 77  83  98  95  89 442]\n",
            " [ 92  71  52  61  53 329]]\n",
            "[[ 13  10   9  33  41 106]\n",
            " [ 39  76  13  29  72 229]\n",
            " [ 82   9  29  78  36 234]\n",
            " [ 67  61  59  36  92 315]\n",
            " [ 63  46  90  42  87 328]\n",
            " [ 92  71  52  61  53 329]\n",
            " [ 77  83  98  95  89 442]]\n"
          ]
        }
      ]
    },
    {
      "cell_type": "markdown",
      "source": [
        "###`Q-3:` Find unique arrays from a 2D array column wise and row wise.\n",
        "```\n",
        "arr = np.array([[1,2,3,3,1,1],\n",
        "                [0,9,1,2,8,8],\n",
        "                [1,2,3,8,8,8],\n",
        "                [1,2,3,3,1,1]])\n",
        "```\n",
        "Expected Result-\n",
        "```\n",
        "Row Wise\n",
        "[[0 9 1 2 8 8]\n",
        " [1 2 3 3 1 1]\n",
        " [1 2 3 8 8 8]]\n",
        "\n",
        "Col Wise\n",
        "[[1 1 2 3 3]\n",
        " [0 8 9 1 2]\n",
        " [1 8 2 3 8]\n",
        " [1 1 2 3 3]]\n",
        "```"
      ],
      "metadata": {
        "id": "VmOyK_8klRqR"
      }
    },
    {
      "cell_type": "code",
      "source": [
        "# code here\n",
        "\n",
        "arr = np.array([[1,2,3,3,1,1],\n",
        "                [0,9,1,2,8,8],\n",
        "                [1,2,3,8,8,8],\n",
        "                [1,2,3,3,1,1]])\n",
        "#1. Row Wise\n",
        "print(np.unique(arr, axis=0))\n",
        "#2. Column Wise\n",
        "print(np.unique(arr, axis=1))"
      ],
      "metadata": {
        "id": "LJl10VQrlU5q",
        "colab": {
          "base_uri": "https://localhost:8080/"
        },
        "outputId": "bc862948-e588-4bc9-fcd5-b0dc0f9714da"
      },
      "execution_count": 4,
      "outputs": [
        {
          "output_type": "stream",
          "name": "stdout",
          "text": [
            "[[0 9 1 2 8 8]\n",
            " [1 2 3 3 1 1]\n",
            " [1 2 3 8 8 8]]\n",
            "[[1 1 2 3 3]\n",
            " [0 8 9 1 2]\n",
            " [1 8 2 3 8]\n",
            " [1 1 2 3 3]]\n"
          ]
        }
      ]
    },
    {
      "cell_type": "markdown",
      "source": [
        "###`Q-4:` Flip given 2-D array along both axes at the same time."
      ],
      "metadata": {
        "id": "RaXwVkywlWY2"
      }
    },
    {
      "cell_type": "code",
      "source": [
        "# code here\n",
        "arr = np.array([[1,2,3,3,1,1],\n",
        "               [0,9,1,2,8,8],\n",
        "               [1,2,3,8,8,8],\n",
        "               [1,2,3,3,1,1],\n",
        "               [0,6,1,2,11,7],\n",
        "               [10,19,14,-2,8,-1]])\n",
        "np.flip(arr, axis=[0,1])"
      ],
      "metadata": {
        "id": "mN7-4G8Kleeq",
        "colab": {
          "base_uri": "https://localhost:8080/"
        },
        "outputId": "99b179e2-c3f9-4cdc-d88d-a1737ae9e58c"
      },
      "execution_count": 5,
      "outputs": [
        {
          "output_type": "execute_result",
          "data": {
            "text/plain": [
              "array([[-1,  8, -2, 14, 19, 10],\n",
              "       [ 7, 11,  2,  1,  6,  0],\n",
              "       [ 1,  1,  3,  3,  2,  1],\n",
              "       [ 8,  8,  8,  3,  2,  1],\n",
              "       [ 8,  8,  2,  1,  9,  0],\n",
              "       [ 1,  1,  3,  3,  2,  1]])"
            ]
          },
          "metadata": {},
          "execution_count": 5
        }
      ]
    },
    {
      "cell_type": "markdown",
      "source": [
        "### `Q-5:` Get row numbers of NumPy array having element larger than X.\n",
        "```\n",
        "arr = [[1,2,3,4,5], \n",
        "      [10,-3,30,4,5], \n",
        "      [3,2,5,-4,5], \n",
        "      [9,7,3,6,5]] \n",
        "\n",
        "X = 6\n",
        "```"
      ],
      "metadata": {
        "id": "X0S7BUNTlfoq"
      }
    },
    {
      "cell_type": "code",
      "source": [
        "# code here"
      ],
      "metadata": {
        "id": "bi8jRmWhlkBU"
      },
      "execution_count": 6,
      "outputs": []
    },
    {
      "cell_type": "markdown",
      "source": [
        "### `Q-6:` How to convert an array of arrays into a flat 1d array?\n"
      ],
      "metadata": {
        "id": "DSCQMo4mlnDG"
      }
    },
    {
      "cell_type": "code",
      "source": [
        "# These arrays are given.\n",
        "arr1 = np.arange(3)\n",
        "arr2 = np.arange(3,7)\n",
        "arr3 = np.arange(7,10)"
      ],
      "metadata": {
        "id": "QZhSkUT2lsJW"
      },
      "execution_count": 7,
      "outputs": []
    },
    {
      "cell_type": "code",
      "source": [
        "# code here\n",
        "np.concatenate([arr1, arr2, arr3])"
      ],
      "metadata": {
        "id": "f42OXNrFls0I",
        "colab": {
          "base_uri": "https://localhost:8080/"
        },
        "outputId": "2cc82318-e901-4e92-830a-dbeac0c6577b"
      },
      "execution_count": 8,
      "outputs": [
        {
          "output_type": "execute_result",
          "data": {
            "text/plain": [
              "array([0, 1, 2, 3, 4, 5, 6, 7, 8, 9])"
            ]
          },
          "metadata": {},
          "execution_count": 8
        }
      ]
    },
    {
      "cell_type": "markdown",
      "source": [
        "### `Q-7:` You are given a array. You have to find the minimum and maximum array element and remove that from the array.\n",
        "\n",
        "```python\n",
        "import numpy as np\n",
        "\n",
        "np.random.seed(400)\n",
        "arr = np.random.randint(100, 1000, 200).reshape((1, 200))\n",
        "```"
      ],
      "metadata": {
        "id": "A1J4oOVCluqO"
      }
    },
    {
      "cell_type": "code",
      "source": [
        "# code here\n",
        "np.random.seed(400)\n",
        "arr = np.random.randint(100, 1000, 200).reshape((1, 200))\n",
        "print(arr)\n",
        "max_element= arr.argmax()\n",
        "min_element=arr.argmin()\n",
        "print(arr.max(), arr.min())\n",
        "arr=np.delete(arr, max_element, axis=1)\n",
        "arr= np.delete(arr, min_element, axis=1)\n",
        "print(arr.max(), arr.min())"
      ],
      "metadata": {
        "id": "c6kmgtUJlybZ",
        "colab": {
          "base_uri": "https://localhost:8080/"
        },
        "outputId": "d38a9f8d-b430-47b6-c46d-64b6572818fa"
      },
      "execution_count": 17,
      "outputs": [
        {
          "output_type": "stream",
          "name": "stdout",
          "text": [
            "[[448 563 418 240 507 362 345 236 719 291 298 639 458 387 262 613 267 882\n",
            "  181 425 790 635 889 818 872 967 277 470 336 920 917 295 557 830 506 385\n",
            "  353 975 592 997 137 340 222 215 472 459 617 649 935 956 914 932 645 952\n",
            "  921 490 527 972 278 307 840 958 246 449 251 957 103 627 920 824 356 825\n",
            "  173 323 372 960 710 464 244 782 763 635 436 774 171 469 178 458 624 211\n",
            "  771 270 308 231 952 514 699 702 433 900 373 318 998 265 503 320 230 324\n",
            "  922 967 620 743 527 117 566 804 123 946 587 227 853 757 944 328 855 930\n",
            "  325 729 426 514 296 879 575 936 705 209 191 743 510 513 628 559 658 528\n",
            "  395 525 922 136 496 225 895 975 263 908 420 711 800 976 786 235 930 859\n",
            "  618 226 695 460 218 483 490 803 621 453 193 607 677 637 728 724 534 748\n",
            "  291 194 761 875 687 569 228 482 781 554 654 739 885 197 266 228 892 207\n",
            "  883 588]]\n",
            "998 103\n",
            "997 117\n"
          ]
        }
      ]
    },
    {
      "cell_type": "markdown",
      "source": [
        "### `Q-8:` You are given an arrays. You have to limit this array's elements between 100 to 200. $arr ∈ [100, 700]$. So replace those values accordingly with the minimum and maximum value. Then sort the array and perform the cumulative sum of that array."
      ],
      "metadata": {
        "id": "0dHN1sdnl0Jy"
      }
    },
    {
      "cell_type": "code",
      "source": [
        "# code here\n",
        "arr=np.random.randint(100,1000, 500)\n",
        "print(arr)\n",
        "print(np.sort(np.clip(arr, 100, 200)))\n",
        "np.cumsum(np.sort(np.clip(arr, 100, 200)))"
      ],
      "metadata": {
        "id": "a3YF_E-Hlza7",
        "colab": {
          "base_uri": "https://localhost:8080/"
        },
        "outputId": "42cd5eca-901a-40b5-8320-95a5dc97c8e1"
      },
      "execution_count": 22,
      "outputs": [
        {
          "output_type": "stream",
          "name": "stdout",
          "text": [
            "[813 211 398 629 762 889 967 287 113 704 813 196 106 913 607 362 765 117\n",
            " 475 592 254 474 219 724 164 418 735 784 104 949 877 650 983 421 581 612\n",
            " 700 823 198 320 184 537 584 312 646 252 923 267 271 349 559 813 420 334\n",
            " 662 790 598 234 560 709 911 703 110 608 865 227 579 521 893 796 325 715\n",
            " 237 953 908 111 727 597 209 851 878 814 266 226 943 735 899 213 791 619\n",
            " 216 984 730 400 930 178 588 753 692 103 712 730 955 273 592 194 555 308\n",
            " 816 839 692 444 166 481 480 134 833 640 880 452 855 207 952 284 432 901\n",
            " 279 731 632 309 292 277 920 334 382 271 327 327 666 703 787 581 190 444\n",
            " 738 651 493 284 378 706 864 512 459 345 636 173 222 466 907 942 583 622\n",
            " 158 882 766 461 297 402 301 454 352 392 238 735 799 979 846 705 616 481\n",
            " 305 718 416 671 515 744 471 937 577 858 237 662 355 901 130 127 987 299\n",
            " 293 365 291 781 327 198 724 980 757 543 978 402 366 507 180 299 883 666\n",
            " 543 506 470 620 693 411 431 841 573 182 446 545 335 739 685 967 546 945\n",
            " 384 506 353 266 483 428 654 533 811 771 986 975 558 193 894 365 667 571\n",
            " 424 896 246 621 755 943 374 407 915 255 272 321 787 994 156 505 951 537\n",
            " 927 591 480 426 503 904 738 822 434 766 203 352 598 551 868 810 680 596\n",
            " 582 289 927 621 812 204 737 731 735 211 884 477 200 946 283 608 102 953\n",
            " 400 644 947 978 540 145 686 468 542 911 688 467 562 339 690 587 683 760\n",
            " 908 942 281 432 291 147 441 438 540 428 207 825 165 990 381 423 783 844\n",
            " 235 363 372 512 803 339 294 558 497 925 886 607 789 294 885 419 612 914\n",
            " 402 429 389 930 543 493 133 211 920 304 342 330 562 466 339 360 398 431\n",
            " 234 260 825 766 668 208 241 321 600 154 408 338 497 109 355 426 599 286\n",
            " 916 364 294 495 114 519 811 190 251 947 421 286 710 516 719 558 671 513\n",
            " 968 866 917 461 514 964 584 932 564 522 122 962 339 956 697 415 497 311\n",
            " 629 930 218 333 711 129 586 553 916 523 236 517 356 726 411 947 483 688\n",
            " 399 488 992 705 645 616 306 202 955 740 418 682 879 449 547 602 992 913\n",
            " 357 210 823 640 408 943 891 720 370 219 257 278 271 323 341 281 912 767\n",
            " 220 643 331 970 924 635 775 726 479 847 650 504 498 819]\n",
            "[102 103 104 106 109 110 111 113 114 117 122 127 129 130 133 134 145 147\n",
            " 154 156 158 164 165 166 173 178 180 182 184 190 190 193 194 196 198 198\n",
            " 200 200 200 200 200 200 200 200 200 200 200 200 200 200 200 200 200 200\n",
            " 200 200 200 200 200 200 200 200 200 200 200 200 200 200 200 200 200 200\n",
            " 200 200 200 200 200 200 200 200 200 200 200 200 200 200 200 200 200 200\n",
            " 200 200 200 200 200 200 200 200 200 200 200 200 200 200 200 200 200 200\n",
            " 200 200 200 200 200 200 200 200 200 200 200 200 200 200 200 200 200 200\n",
            " 200 200 200 200 200 200 200 200 200 200 200 200 200 200 200 200 200 200\n",
            " 200 200 200 200 200 200 200 200 200 200 200 200 200 200 200 200 200 200\n",
            " 200 200 200 200 200 200 200 200 200 200 200 200 200 200 200 200 200 200\n",
            " 200 200 200 200 200 200 200 200 200 200 200 200 200 200 200 200 200 200\n",
            " 200 200 200 200 200 200 200 200 200 200 200 200 200 200 200 200 200 200\n",
            " 200 200 200 200 200 200 200 200 200 200 200 200 200 200 200 200 200 200\n",
            " 200 200 200 200 200 200 200 200 200 200 200 200 200 200 200 200 200 200\n",
            " 200 200 200 200 200 200 200 200 200 200 200 200 200 200 200 200 200 200\n",
            " 200 200 200 200 200 200 200 200 200 200 200 200 200 200 200 200 200 200\n",
            " 200 200 200 200 200 200 200 200 200 200 200 200 200 200 200 200 200 200\n",
            " 200 200 200 200 200 200 200 200 200 200 200 200 200 200 200 200 200 200\n",
            " 200 200 200 200 200 200 200 200 200 200 200 200 200 200 200 200 200 200\n",
            " 200 200 200 200 200 200 200 200 200 200 200 200 200 200 200 200 200 200\n",
            " 200 200 200 200 200 200 200 200 200 200 200 200 200 200 200 200 200 200\n",
            " 200 200 200 200 200 200 200 200 200 200 200 200 200 200 200 200 200 200\n",
            " 200 200 200 200 200 200 200 200 200 200 200 200 200 200 200 200 200 200\n",
            " 200 200 200 200 200 200 200 200 200 200 200 200 200 200 200 200 200 200\n",
            " 200 200 200 200 200 200 200 200 200 200 200 200 200 200 200 200 200 200\n",
            " 200 200 200 200 200 200 200 200 200 200 200 200 200 200 200 200 200 200\n",
            " 200 200 200 200 200 200 200 200 200 200 200 200 200 200 200 200 200 200\n",
            " 200 200 200 200 200 200 200 200 200 200 200 200 200 200]\n"
          ]
        },
        {
          "output_type": "execute_result",
          "data": {
            "text/plain": [
              "array([  102,   205,   309,   415,   524,   634,   745,   858,   972,\n",
              "        1089,  1211,  1338,  1467,  1597,  1730,  1864,  2009,  2156,\n",
              "        2310,  2466,  2624,  2788,  2953,  3119,  3292,  3470,  3650,\n",
              "        3832,  4016,  4206,  4396,  4589,  4783,  4979,  5177,  5375,\n",
              "        5575,  5775,  5975,  6175,  6375,  6575,  6775,  6975,  7175,\n",
              "        7375,  7575,  7775,  7975,  8175,  8375,  8575,  8775,  8975,\n",
              "        9175,  9375,  9575,  9775,  9975, 10175, 10375, 10575, 10775,\n",
              "       10975, 11175, 11375, 11575, 11775, 11975, 12175, 12375, 12575,\n",
              "       12775, 12975, 13175, 13375, 13575, 13775, 13975, 14175, 14375,\n",
              "       14575, 14775, 14975, 15175, 15375, 15575, 15775, 15975, 16175,\n",
              "       16375, 16575, 16775, 16975, 17175, 17375, 17575, 17775, 17975,\n",
              "       18175, 18375, 18575, 18775, 18975, 19175, 19375, 19575, 19775,\n",
              "       19975, 20175, 20375, 20575, 20775, 20975, 21175, 21375, 21575,\n",
              "       21775, 21975, 22175, 22375, 22575, 22775, 22975, 23175, 23375,\n",
              "       23575, 23775, 23975, 24175, 24375, 24575, 24775, 24975, 25175,\n",
              "       25375, 25575, 25775, 25975, 26175, 26375, 26575, 26775, 26975,\n",
              "       27175, 27375, 27575, 27775, 27975, 28175, 28375, 28575, 28775,\n",
              "       28975, 29175, 29375, 29575, 29775, 29975, 30175, 30375, 30575,\n",
              "       30775, 30975, 31175, 31375, 31575, 31775, 31975, 32175, 32375,\n",
              "       32575, 32775, 32975, 33175, 33375, 33575, 33775, 33975, 34175,\n",
              "       34375, 34575, 34775, 34975, 35175, 35375, 35575, 35775, 35975,\n",
              "       36175, 36375, 36575, 36775, 36975, 37175, 37375, 37575, 37775,\n",
              "       37975, 38175, 38375, 38575, 38775, 38975, 39175, 39375, 39575,\n",
              "       39775, 39975, 40175, 40375, 40575, 40775, 40975, 41175, 41375,\n",
              "       41575, 41775, 41975, 42175, 42375, 42575, 42775, 42975, 43175,\n",
              "       43375, 43575, 43775, 43975, 44175, 44375, 44575, 44775, 44975,\n",
              "       45175, 45375, 45575, 45775, 45975, 46175, 46375, 46575, 46775,\n",
              "       46975, 47175, 47375, 47575, 47775, 47975, 48175, 48375, 48575,\n",
              "       48775, 48975, 49175, 49375, 49575, 49775, 49975, 50175, 50375,\n",
              "       50575, 50775, 50975, 51175, 51375, 51575, 51775, 51975, 52175,\n",
              "       52375, 52575, 52775, 52975, 53175, 53375, 53575, 53775, 53975,\n",
              "       54175, 54375, 54575, 54775, 54975, 55175, 55375, 55575, 55775,\n",
              "       55975, 56175, 56375, 56575, 56775, 56975, 57175, 57375, 57575,\n",
              "       57775, 57975, 58175, 58375, 58575, 58775, 58975, 59175, 59375,\n",
              "       59575, 59775, 59975, 60175, 60375, 60575, 60775, 60975, 61175,\n",
              "       61375, 61575, 61775, 61975, 62175, 62375, 62575, 62775, 62975,\n",
              "       63175, 63375, 63575, 63775, 63975, 64175, 64375, 64575, 64775,\n",
              "       64975, 65175, 65375, 65575, 65775, 65975, 66175, 66375, 66575,\n",
              "       66775, 66975, 67175, 67375, 67575, 67775, 67975, 68175, 68375,\n",
              "       68575, 68775, 68975, 69175, 69375, 69575, 69775, 69975, 70175,\n",
              "       70375, 70575, 70775, 70975, 71175, 71375, 71575, 71775, 71975,\n",
              "       72175, 72375, 72575, 72775, 72975, 73175, 73375, 73575, 73775,\n",
              "       73975, 74175, 74375, 74575, 74775, 74975, 75175, 75375, 75575,\n",
              "       75775, 75975, 76175, 76375, 76575, 76775, 76975, 77175, 77375,\n",
              "       77575, 77775, 77975, 78175, 78375, 78575, 78775, 78975, 79175,\n",
              "       79375, 79575, 79775, 79975, 80175, 80375, 80575, 80775, 80975,\n",
              "       81175, 81375, 81575, 81775, 81975, 82175, 82375, 82575, 82775,\n",
              "       82975, 83175, 83375, 83575, 83775, 83975, 84175, 84375, 84575,\n",
              "       84775, 84975, 85175, 85375, 85575, 85775, 85975, 86175, 86375,\n",
              "       86575, 86775, 86975, 87175, 87375, 87575, 87775, 87975, 88175,\n",
              "       88375, 88575, 88775, 88975, 89175, 89375, 89575, 89775, 89975,\n",
              "       90175, 90375, 90575, 90775, 90975, 91175, 91375, 91575, 91775,\n",
              "       91975, 92175, 92375, 92575, 92775, 92975, 93175, 93375, 93575,\n",
              "       93775, 93975, 94175, 94375, 94575, 94775, 94975, 95175, 95375,\n",
              "       95575, 95775, 95975, 96175, 96375, 96575, 96775, 96975, 97175,\n",
              "       97375, 97575, 97775, 97975, 98175])"
            ]
          },
          "metadata": {},
          "execution_count": 22
        }
      ]
    },
    {
      "cell_type": "markdown",
      "source": [
        "### `Q-9:` You are given a array ($arr ∈ [0, 1]$). First you have round off the elements upto 3 decimal places and compare that\n",
        "- 0th percentile == minimum value of the array\n",
        "- 100th percentile == maximum value of the array\n",
        "- also find the difference betwen 51th percenile and 50th percentile values"
      ],
      "metadata": {
        "id": "cXj90Susl4-I"
      }
    },
    {
      "cell_type": "code",
      "source": [
        "# code here\n",
        "arr=np.random.random(100)\n",
        "arr=np.around(arr, decimals=3)\n",
        "print(arr)\n",
        "print(\"0th percentile == minimum value of the array: \", (np.percentile(arr, 0) == arr.min()))\n",
        "print(\"100th percentile == maximum value of the array: \", (np.percentile(arr, 100) == arr.max()))\n",
        "print('difference betwen 51th percenile and 50th percentile values =', (np.percentile(arr, 51))- (np.percentile(arr,50)))"
      ],
      "metadata": {
        "id": "SgBEHodgl7Lo",
        "colab": {
          "base_uri": "https://localhost:8080/"
        },
        "outputId": "53942363-86ba-40ad-b663-9b2081887677"
      },
      "execution_count": 29,
      "outputs": [
        {
          "output_type": "stream",
          "name": "stdout",
          "text": [
            "[0.437 0.788 0.041 0.032 0.586 0.034 0.952 0.731 0.965 0.772 0.175 0.359\n",
            " 0.98  0.953 0.156 0.021 0.634 0.665 0.581 0.434 0.166 0.119 0.102 0.346\n",
            " 0.606 0.303 0.727 0.01  0.33  0.88  0.671 0.812 0.167 0.457 0.603 0.42\n",
            " 0.779 0.873 0.227 0.867 0.321 0.902 0.72  0.046 0.525 0.327 0.126 0.418\n",
            " 0.16  0.453 0.878 0.662 0.656 0.503 0.895 0.683 0.369 0.302 0.089 0.806\n",
            " 0.972 0.986 0.336 0.597 0.878 0.033 0.204 0.482 0.516 0.216 0.765 0.442\n",
            " 0.3   0.418 0.008 0.266 0.616 0.424 0.611 0.288 0.267 0.217 0.919 0.666\n",
            " 0.372 0.534 0.15  0.695 0.952 0.445 0.6   0.07  0.194 0.387 0.092 0.106\n",
            " 0.702 0.476 0.318 0.332]\n",
            "0th percentile == minimum value of the array:  True\n",
            "100th percentile == maximum value of the array:  True\n",
            "difference betwen 51th percenile and 50th percentile values = 0.005420000000000036\n"
          ]
        }
      ]
    }
  ]
}